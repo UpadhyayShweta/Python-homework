{
 "cells": [
  {
   "cell_type": "code",
   "execution_count": 1,
   "metadata": {},
   "outputs": [],
   "source": [
    "#importing libraries\n",
    "import os\n",
    "import csv"
   ]
  },
  {
   "cell_type": "code",
   "execution_count": 2,
   "metadata": {},
   "outputs": [
    {
     "name": "stdout",
     "output_type": "stream",
     "text": [
      "/Users/arpita/Desktop/Github_UTOR_FinTech/Python-homework/PyBank\n"
     ]
    }
   ],
   "source": [
    "#checking current directory\n",
    "current_dir = os.getcwd()\n",
    "print(current_dir)"
   ]
  },
  {
   "cell_type": "code",
   "execution_count": 3,
   "metadata": {},
   "outputs": [
    {
     "name": "stdout",
     "output_type": "stream",
     "text": [
      "/Users/arpita/Desktop/Github_UTOR_FinTech/Python-homework/PyBank/budget_data.csv\n"
     ]
    }
   ],
   "source": [
    "# get the csv file path\n",
    "path_budget_data = os.path.join(current_dir, \"budget_data.csv\") "
   ]
  },
  {
   "cell_type": "code",
   "execution_count": 9,
   "metadata": {},
   "outputs": [],
   "source": [
    "#function to read the data from budget_data.csv file\n",
    "def read_csv_file(filepath):\n",
    "        \"\"\"\n",
    "    Reads a CSV file and returns the data as a list of dictionaries.\n",
    "    Each dictionary represents a row, with column names as keys and corresponding values.\n",
    "    Args:\n",
    "        file_path (str): The path to the CSV file.\n",
    "    Returns:\n",
    "        A list of dictionaries representing the CSV data.\n",
    "    \"\"\"\n",
    "        data = []\n",
    "        with open(filepath, 'r') as file:\n",
    "            reader = csv.DictReader(file)\n",
    "            for row in reader:\n",
    "                data.append(dict(row))\n",
    "                \n",
    "        return data\n",
    "data = read_csv_file(path_budget_data)\n"
   ]
  },
  {
   "cell_type": "markdown",
   "metadata": {},
   "source": [
    "Upon reading 'budget_data.csv' file we see it has Date and Profit/Losses as attributes that contains profit or loss occured on monthly basis from 2010 to 2017"
   ]
  },
  {
   "cell_type": "code",
   "execution_count": 7,
   "metadata": {},
   "outputs": [],
   "source": [
    "## count the total no. of months and check for duplicate records for month and remove them\n",
    "def total_months(data):\n",
    "    count = 1\n",
    "    for i in range(0, len(data)):\n",
    "        for j in range(i+1,len(data)):\n",
    "            if data[i]['Date'] != data[j]['Date']:\n",
    "                count = count+1\n",
    "            elif data[i]['Date'] == data[j]['Date']:\n",
    "                data.remove(data[j]['Date'])\n",
    "        print(f'Total Months: {count}')            \n",
    "        return (data)            \n",
    "\n",
    "    \n",
    "## function to calculate the total \n",
    "def count_total(data):\n",
    "    total = int(data[0]['Profit/Losses'])\n",
    "    total_change = 0.0\n",
    "    change_per_month = int(data[0]['Profit/Losses'])\n",
    "    profit_loss= []\n",
    "    for i in range(1, len(data)):        \n",
    "        total = total + int(data[i]['Profit/Losses'])\n",
    "        profit_loss.append(change_per_month)\n",
    "        change_per_month = int(data[i]['Profit/Losses']) - int(data[i-1]['Profit/Losses'])        \n",
    "        total_change = total_change + change_per_month\n",
    "    \n",
    "    average_change = total_change/(len(profit_loss))\n",
    "    print(f'Total: ${total}')\n",
    "    print('Average  Change: $%.2f' %average_change)\n",
    "    return (total, total_change, profit_loss) \n",
    "       \n",
    "## function to find the greatest profit or loss values and corresponding month {}\n",
    "def greatest_profit_or_loss(Profit_Loss, data):\n",
    "    temp_profit = 0\n",
    "    temp_loss = 0\n",
    "    for i in range(0,len(Profit_Loss)):\n",
    "        if (Profit_Loss[i] > 0) & (Profit_Loss[i] > temp_profit):\n",
    "            temp_profit = Profit_Loss[i]  \n",
    "            profit_month = data[i]['Date']\n",
    "        elif (Profit_Loss[i] < 0) & (Profit_Loss[i] < temp_loss):\n",
    "            temp_loss = Profit_Loss[i]\n",
    "            loss_month = data[i]['Date']\n",
    "    \n",
    "    print(f'Greatest Increase in Profits: {profit_month} (${temp_profit})')\n",
    "    print(f'Greatest Decrease in Profits: {loss_month} (${temp_loss})')\n",
    "    return (temp_profit, temp_loss, profit_month, loss_month) \n",
    "\n",
    "\n",
    "## Function to generate our financial Analysis report\n",
    "def financial_analysis_report(data):\n",
    "    \n",
    "    print(f\"Financial Analysis \\n{'-' * 30}\")\n",
    "   \n",
    "    revised_data = total_months(data)\n",
    "    total_value, total_change, profit_loss = count_total(revised_data)\n",
    "    highest_profit, higest_loss, profit_month, loss_month = greatest_profit_or_loss(profit_loss, revised_data)\n",
    "\n",
    "    "
   ]
  },
  {
   "cell_type": "code",
   "execution_count": 8,
   "metadata": {},
   "outputs": [
    {
     "name": "stdout",
     "output_type": "stream",
     "text": [
      "Financial Analysis \n",
      "------------------------------\n",
      "Total Months: 86\n",
      "Total: $38382578\n",
      "Average  Change: $-2315.12\n",
      "Greatest Increase in Profits: Feb-2012 ($1926159)\n",
      "Greatest Decrease in Profits: Sep-2013 ($-2196167)\n"
     ]
    }
   ],
   "source": [
    "## Generating Financial report \n",
    "financial_analysis_report(data)   "
   ]
  },
  {
   "cell_type": "code",
   "execution_count": null,
   "metadata": {},
   "outputs": [],
   "source": []
  }
 ],
 "metadata": {
  "kernelspec": {
   "display_name": "Python 3",
   "language": "python",
   "name": "python3"
  },
  "language_info": {
   "codemirror_mode": {
    "name": "ipython",
    "version": 3
   },
   "file_extension": ".py",
   "mimetype": "text/x-python",
   "name": "python",
   "nbconvert_exporter": "python",
   "pygments_lexer": "ipython3",
   "version": "3.7.6"
  }
 },
 "nbformat": 4,
 "nbformat_minor": 4
}

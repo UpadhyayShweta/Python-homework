{
 "cells": [
  {
   "cell_type": "code",
   "execution_count": 1,
   "metadata": {},
   "outputs": [],
   "source": [
    "import os\n",
    "import csv"
   ]
  },
  {
   "cell_type": "code",
   "execution_count": 2,
   "metadata": {},
   "outputs": [
    {
     "name": "stdout",
     "output_type": "stream",
     "text": [
      "/Users/arpita/Desktop/Github_UTOR_FinTech/Python-homework/PyBank\n"
     ]
    }
   ],
   "source": [
    "current_dir = os.getcwd()\n",
    "print(current_dir)"
   ]
  },
  {
   "cell_type": "code",
   "execution_count": 3,
   "metadata": {},
   "outputs": [
    {
     "name": "stdout",
     "output_type": "stream",
     "text": [
      "/Users/arpita/Desktop/Github_UTOR_FinTech/Python-homework/PyBank/budget_data.csv\n"
     ]
    }
   ],
   "source": [
    "path_budget_data = os.path.join(current_dir, \"budget_data.csv\") # get the csv file path\n",
    "print(path_budget_data)"
   ]
  },
  {
   "cell_type": "code",
   "execution_count": 4,
   "metadata": {},
   "outputs": [
    {
     "name": "stdout",
     "output_type": "stream",
     "text": [
      "[{'Date': 'Jan-2010', 'Profit/Losses': '867884'}, {'Date': 'Feb-2010', 'Profit/Losses': '984655'}, {'Date': 'Mar-2010', 'Profit/Losses': '322013'}, {'Date': 'Apr-2010', 'Profit/Losses': '-69417'}, {'Date': 'May-2010', 'Profit/Losses': '310503'}, {'Date': 'Jun-2010', 'Profit/Losses': '522857'}, {'Date': 'Jul-2010', 'Profit/Losses': '1033096'}, {'Date': 'Aug-2010', 'Profit/Losses': '604885'}, {'Date': 'Sep-2010', 'Profit/Losses': '-216386'}, {'Date': 'Oct-2010', 'Profit/Losses': '477532'}, {'Date': 'Nov-2010', 'Profit/Losses': '893810'}, {'Date': 'Dec-2010', 'Profit/Losses': '-80353'}, {'Date': 'Jan-2011', 'Profit/Losses': '779806'}, {'Date': 'Feb-2011', 'Profit/Losses': '-335203'}, {'Date': 'Mar-2011', 'Profit/Losses': '697845'}, {'Date': 'Apr-2011', 'Profit/Losses': '793163'}, {'Date': 'May-2011', 'Profit/Losses': '485070'}, {'Date': 'Jun-2011', 'Profit/Losses': '584122'}, {'Date': 'Jul-2011', 'Profit/Losses': '62729'}, {'Date': 'Aug-2011', 'Profit/Losses': '668179'}, {'Date': 'Sep-2011', 'Profit/Losses': '899906'}, {'Date': 'Oct-2011', 'Profit/Losses': '834719'}, {'Date': 'Nov-2011', 'Profit/Losses': '132003'}, {'Date': 'Dec-2011', 'Profit/Losses': '309978'}, {'Date': 'Jan-2012', 'Profit/Losses': '-755566'}, {'Date': 'Feb-2012', 'Profit/Losses': '1170593'}, {'Date': 'Mar-2012', 'Profit/Losses': '252788'}, {'Date': 'Apr-2012', 'Profit/Losses': '1151518'}, {'Date': 'May-2012', 'Profit/Losses': '817256'}, {'Date': 'Jun-2012', 'Profit/Losses': '570757'}, {'Date': 'Jul-2012', 'Profit/Losses': '506702'}, {'Date': 'Aug-2012', 'Profit/Losses': '-1022534'}, {'Date': 'Sep-2012', 'Profit/Losses': '475062'}, {'Date': 'Oct-2012', 'Profit/Losses': '779976'}, {'Date': 'Nov-2012', 'Profit/Losses': '144175'}, {'Date': 'Dec-2012', 'Profit/Losses': '542494'}, {'Date': 'Jan-2013', 'Profit/Losses': '359333'}, {'Date': 'Feb-2013', 'Profit/Losses': '321469'}, {'Date': 'Mar-2013', 'Profit/Losses': '67780'}, {'Date': 'Apr-2013', 'Profit/Losses': '471435'}, {'Date': 'May-2013', 'Profit/Losses': '565603'}, {'Date': 'Jun-2013', 'Profit/Losses': '872480'}, {'Date': 'Jul-2013', 'Profit/Losses': '789480'}, {'Date': 'Aug-2013', 'Profit/Losses': '999942'}, {'Date': 'Sep-2013', 'Profit/Losses': '-1196225'}, {'Date': 'Oct-2013', 'Profit/Losses': '268997'}, {'Date': 'Nov-2013', 'Profit/Losses': '-687986'}, {'Date': 'Dec-2013', 'Profit/Losses': '1150461'}, {'Date': 'Jan-2014', 'Profit/Losses': '682458'}, {'Date': 'Feb-2014', 'Profit/Losses': '617856'}, {'Date': 'Mar-2014', 'Profit/Losses': '824098'}, {'Date': 'Apr-2014', 'Profit/Losses': '581943'}, {'Date': 'May-2014', 'Profit/Losses': '132864'}, {'Date': 'Jun-2014', 'Profit/Losses': '448062'}, {'Date': 'Jul-2014', 'Profit/Losses': '689161'}, {'Date': 'Aug-2014', 'Profit/Losses': '800701'}, {'Date': 'Sep-2014', 'Profit/Losses': '1166643'}, {'Date': 'Oct-2014', 'Profit/Losses': '947333'}, {'Date': 'Nov-2014', 'Profit/Losses': '578668'}, {'Date': 'Dec-2014', 'Profit/Losses': '988505'}, {'Date': 'Jan-2015', 'Profit/Losses': '1139715'}, {'Date': 'Feb-2015', 'Profit/Losses': '1029471'}, {'Date': 'Mar-2015', 'Profit/Losses': '687533'}, {'Date': 'Apr-2015', 'Profit/Losses': '-524626'}, {'Date': 'May-2015', 'Profit/Losses': '158620'}, {'Date': 'Jun-2015', 'Profit/Losses': '87795'}, {'Date': 'Jul-2015', 'Profit/Losses': '423389'}, {'Date': 'Aug-2015', 'Profit/Losses': '840723'}, {'Date': 'Sep-2015', 'Profit/Losses': '568529'}, {'Date': 'Oct-2015', 'Profit/Losses': '332067'}, {'Date': 'Nov-2015', 'Profit/Losses': '989499'}, {'Date': 'Dec-2015', 'Profit/Losses': '778237'}, {'Date': 'Jan-2016', 'Profit/Losses': '650000'}, {'Date': 'Feb-2016', 'Profit/Losses': '-1100387'}, {'Date': 'Mar-2016', 'Profit/Losses': '-174946'}, {'Date': 'Apr-2016', 'Profit/Losses': '757143'}, {'Date': 'May-2016', 'Profit/Losses': '445709'}, {'Date': 'Jun-2016', 'Profit/Losses': '712961'}, {'Date': 'Jul-2016', 'Profit/Losses': '-1163797'}, {'Date': 'Aug-2016', 'Profit/Losses': '569899'}, {'Date': 'Sep-2016', 'Profit/Losses': '768450'}, {'Date': 'Oct-2016', 'Profit/Losses': '102685'}, {'Date': 'Nov-2016', 'Profit/Losses': '795914'}, {'Date': 'Dec-2016', 'Profit/Losses': '60988'}, {'Date': 'Jan-2017', 'Profit/Losses': '138230'}, {'Date': 'Feb-2017', 'Profit/Losses': '671099'}]\n"
     ]
    }
   ],
   "source": [
    "def read_csv_file(filepath):\n",
    "        \"\"\"\n",
    "    Reads a CSV file and returns the data as a list of dictionaries.\n",
    "    Each dictionary represents a row, with column names as keys and corresponding values.\n",
    "    Args:\n",
    "        file_path (str): The path to the CSV file.\n",
    "    Returns:\n",
    "        A list of dictionaries representing the CSV data.\n",
    "    \"\"\"\n",
    "        data = []\n",
    "        with open(filepath, 'r') as file:\n",
    "            reader = csv.DictReader(file)\n",
    "            for row in reader:\n",
    "                data.append(dict(row))\n",
    "                \n",
    "        return data\n",
    "data = read_csv_file(path_budget_data)\n",
    "print(data)\n"
   ]
  },
  {
   "cell_type": "markdown",
   "metadata": {},
   "source": [
    "Upon reading 'budget_data.csv' file we see it has Date and Profit/Losses as attributes that contains profit or loss occured on monthly basis from 2010 to 2017"
   ]
  },
  {
   "cell_type": "code",
   "execution_count": 5,
   "metadata": {},
   "outputs": [],
   "source": [
    "## count the total no. of months and check for duplicate records for month and remove them\n",
    "def total_months(data):\n",
    "    count = 1\n",
    "    for i in range(0, len(data)):\n",
    "        for j in range(i+1,len(data)):\n",
    "            if data[i]['Date'] != data[j]['Date']:\n",
    "                count = count+1\n",
    "            elif data[i]['Date'] == data[j]['Date']:\n",
    "                data.remove(data[j]['Date'])\n",
    "        print(f'Total Months: {count}')            \n",
    "        return (data)            \n",
    "\n",
    "    \n",
    "## function to calculate the total \n",
    "def count_total(data):\n",
    "    total = int(data[0]['Profit/Losses'])\n",
    "    total_change = 0.0\n",
    "    change_per_month = int(data[0]['Profit/Losses'])\n",
    "    profit_loss= []\n",
    "    for i in range(1, len(data)):        \n",
    "        total = total + int(data[i]['Profit/Losses'])\n",
    "        profit_loss.append(change_per_month)\n",
    "        change_per_month = int(data[i]['Profit/Losses']) - int(data[i-1]['Profit/Losses'])        \n",
    "        total_change = total_change + change_per_month\n",
    "    \n",
    "    average_change = total_change/(len(profit_loss))\n",
    "    print(f'Total: ${total}')\n",
    "    print('Average  Change: $%.2f' %average_change)\n",
    "    return (total, total_change, profit_loss) \n",
    "       \n",
    "## function to find the greatest profit or loss values and corresponding month {}\n",
    "def greatest_profit_or_loss(Profit_Loss, data):\n",
    "    temp_profit = 0\n",
    "    temp_loss = 0\n",
    "    for i in range(0,len(Profit_Loss)):\n",
    "        if (Profit_Loss[i] > 0) & (Profit_Loss[i] > temp_profit):\n",
    "            temp_profit = Profit_Loss[i]  \n",
    "            profit_month = data[i]['Date']\n",
    "        elif (Profit_Loss[i] < 0) & (Profit_Loss[i] < temp_loss):\n",
    "            temp_loss = Profit_Loss[i]\n",
    "            loss_month = data[i]['Date']\n",
    "    \n",
    "    print(f'Greatest Increase in Profits: {profit_month} (${temp_profit})')\n",
    "    print(f'Greatest Decrease in Profits: {loss_month} (${temp_loss})')\n",
    "    return (temp_profit, temp_loss, profit_month, loss_month) \n",
    "\n",
    "\n",
    "## Function to generate our financial Analysis report\n",
    "def financial_analysis_report(data):\n",
    "    \n",
    "    print(f\"Financial Analysis \\n{'-' * 30}\")\n",
    "   \n",
    "    revised_data = total_months(data)\n",
    "    total_value, total_change, profit_loss = count_total(revised_data)\n",
    "    highest_profit, higest_loss, profit_month, loss_month = greatest_profit_or_loss(profit_loss, revised_data)\n",
    "\n",
    "    "
   ]
  },
  {
   "cell_type": "code",
   "execution_count": 6,
   "metadata": {},
   "outputs": [
    {
     "name": "stdout",
     "output_type": "stream",
     "text": [
      "Financial Analysis \n",
      "------------------------------\n",
      "Total Months: 86\n",
      "Total: 38382578\n",
      "Average  Change: -2315.12\n",
      "Greatest Increase in Profits: Feb-2012 (1926159)\n",
      "Greatest Decrease in Profits: Sep-2013 -2196167\n"
     ]
    }
   ],
   "source": [
    "## Generating Financial report \n",
    "financial_analysis_report(data)   "
   ]
  },
  {
   "cell_type": "code",
   "execution_count": null,
   "metadata": {},
   "outputs": [],
   "source": []
  }
 ],
 "metadata": {
  "kernelspec": {
   "display_name": "Python 3",
   "language": "python",
   "name": "python3"
  },
  "language_info": {
   "codemirror_mode": {
    "name": "ipython",
    "version": 3
   },
   "file_extension": ".py",
   "mimetype": "text/x-python",
   "name": "python",
   "nbconvert_exporter": "python",
   "pygments_lexer": "ipython3",
   "version": "3.7.6"
  }
 },
 "nbformat": 4,
 "nbformat_minor": 4
}
